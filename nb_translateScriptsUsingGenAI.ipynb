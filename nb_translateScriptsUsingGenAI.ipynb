{
 "cells": [
  {
   "cell_type": "markdown",
   "metadata": {},
   "source": [
    "## 1.Install library"
   ]
  },
  {
   "cell_type": "code",
   "execution_count": 234,
   "metadata": {},
   "outputs": [],
   "source": [
    "#!pip install -q -U google-generativeai"
   ]
  },
  {
   "cell_type": "markdown",
   "metadata": {},
   "source": [
    "## 2.Config "
   ]
  },
  {
   "cell_type": "code",
   "execution_count": 235,
   "metadata": {},
   "outputs": [],
   "source": [
    "import google.generativeai as genai\n",
    "from  config import config "
   ]
  },
  {
   "cell_type": "code",
   "execution_count": 236,
   "metadata": {},
   "outputs": [],
   "source": [
    "# Reading API Key\n",
    "API_KEY = config['api_key']"
   ]
  },
  {
   "cell_type": "code",
   "execution_count": 237,
   "metadata": {},
   "outputs": [],
   "source": [
    "# get in genai\n",
    "genai.configure(api_key=API_KEY)"
   ]
  },
  {
   "cell_type": "markdown",
   "metadata": {},
   "source": [
    "## 3.Using"
   ]
  },
  {
   "cell_type": "code",
   "execution_count": 238,
   "metadata": {},
   "outputs": [],
   "source": [
    "# Picking model\n",
    "model = genai.GenerativeModel('gemini-pro')"
   ]
  },
  {
   "cell_type": "markdown",
   "metadata": {},
   "source": [
    "### 3.1.Get table statemet"
   ]
  },
  {
   "cell_type": "code",
   "execution_count": 239,
   "metadata": {},
   "outputs": [],
   "source": [
    "# Reading notebook with tables script \n",
    "import json \n",
    "\n",
    "with open(\"nb_tablesScripstSource.ipynb\", mode= \"r\", encoding= \"utf-8\") as f:\n",
    "    myfile = json.load(f)"
   ]
  },
  {
   "cell_type": "code",
   "execution_count": 240,
   "metadata": {},
   "outputs": [],
   "source": [
    "\n",
    "statements_to_translate = []\n",
    "for x in myfile[\"cells\"]:\n",
    "    if (x['cell_type'] == \"code\") & \\\n",
    "             (x[\"metadata\"]['object_type'] == 'Table'):\n",
    "                statements_to_translate.append( x[\"source\"])\n",
    "\n",
    "\n"
   ]
  },
  {
   "cell_type": "code",
   "execution_count": null,
   "metadata": {},
   "outputs": [],
   "source": [
    "t = 0\n",
    "translated_statements = []\n",
    "for e in statements_to_translate:\n",
    "    t = t+1\n",
    "    e1 = ' '\n",
    "    e1 = \" \".join(e) \n",
    "    question = f'Translate the following SQL script into English,using column names with words separated by underscores (_). Preserve the original table structure and data types. Remove constraints and PRIMARY KEY instructions  :{e1}'\n",
    "    response = model.generate_content(question)\n",
    "    translated_statements.append(response.text)\n",
    "    print(response.text)\n"
   ]
  },
  {
   "cell_type": "code",
   "execution_count": null,
   "metadata": {},
   "outputs": [],
   "source": [
    "e1 = \"\"\"\n",
    "SET ANSI_NULLS ON\n",
    "GO\n",
    "SET QUOTED_IDENTIFIER ON\n",
    "GO\n",
    "CREATE TABLE [dbo].[VENDAS_ANALITICAS](\n",
    "\t[FORMULARIO_ORIGEM] [numeric](15, 0) NOT NULL,\n",
    "\t[TAB_MASTER_ORIGEM] [numeric](15, 0) NOT NULL,\n",
    "\t[REG_MASTER_ORIGEM] [numeric](15, 0) NOT NULL,\n",
    "\t[REGISTRO_CONTROLE] [numeric](15, 0) NOT NULL,\n",
    "\t[REGISTRO_CONTROLE_II] [numeric](15, 0) NOT NULL,\n",
    "\t[EMPRESA] [numeric](15, 0) NOT NULL,\n",
    "\t[MOVIMENTO] [date] NOT NULL,\n",
    "\t[CAIXA] [numeric](15, 0) NULL,\n",
    "\t[VENDA] [numeric](15, 0) NOT NULL,\n",
    "\t[PRODUTO] [numeric](15, 0) NOT NULL,\n",
    "\t[VENDEDOR] [numeric](15, 0) NULL,\n",
    "\t[OPERADOR] [numeric](15, 0) NULL,\n",
    "\t[CLIENTE] [numeric](15, 0) NULL,\n",
    "\t[QUANTIDADE] [numeric](10, 2) NOT NULL,\n",
    "\t[VENDA_BRUTA] [numeric](15, 2) NOT NULL,\n",
    "\t[DESCONTO] [numeric](15, 2) NOT NULL,\n",
    "\t[DESCONTO_NEGOCIADO] [numeric](15, 2) NULL,\n",
    "\t[VENDA_LIQUIDA]  AS ([VENDA_BRUTA]-[DESCONTO]) PERSISTED,\n",
    "\t[OPERACAO_FISCAL] [numeric](5, 0) NOT NULL,\n",
    "\t[PIS_ALIQUOTA] [numeric](15, 2) NULL,\n",
    "\t[PIS_BASE_CALCULO] [numeric](15, 2) NULL,\n",
    "\t[PIS_VALOR] [numeric](15, 2) NULL,\n",
    "\t[SITUACAO_TRIBUTARIA_PIS] [varchar](2) NULL,\n",
    "\t[COFINS_ALIQUOTA] [numeric](15, 2) NULL,\n",
    "\t[COFINS_BASE_CALCULO] [numeric](15, 2) NULL,\n",
    "\t[COFINS_VALOR] [numeric](15, 2) NULL,\n",
    "\t[SITUACAO_TRIBUTARIA_COFINS] [varchar](2) NULL,\n",
    "\t[ICMS_ALIQUOTA] [numeric](15, 2) NULL,\n",
    "\t[ICMS_BASE_CALCULO] [numeric](15, 2) NULL,\n",
    "\t[ICMS_VALOR] [numeric](15, 2) NULL,\n",
    "\t[SITUACAO_TRIBUTARIA] [varchar](3) NULL,\n",
    "\t[ICMS_CODIGO_ECF] [varchar](10) NULL,\n",
    "\t[ESPECIE_FISCAL] [varchar](3) NULL,\n",
    "\t[DOCUMENTO_TIPO] [numeric](15, 0) NULL,\n",
    "\t[DOCUMENTO_NUMERO] [numeric](15, 0) NULL,\n",
    "\t[ECF_CAIXA] [varchar](4) NULL,\n",
    "\t[TIPO_BONIFICACAO] [varchar](1) NULL,\n",
    "\t[BONIFICACAO] [numeric](15, 2) NULL,\n",
    "\t[OBJETO_CONTROLE] [numeric](15, 0) NULL,\n",
    "\t[GUID] [uniqueidentifier] NOT NULL,\n",
    "\t[VENDA_ANALITICA] [numeric](15, 0) IDENTITY(1,1) NOT NULL,\n",
    "\t[IMPOSTOS]  AS ((isnull([PIS_VALOR],(0))+isnull([COFINS_VALOR],(0)))+isnull([ICMS_VALOR],(0))) PERSISTED,\n",
    "\t[FORMULARIO_ORIGEM_RELACIONADO] [numeric](15, 0) NULL,\n",
    "\t[TAB_MASTER_ORIGEM_RELACIONADO] [numeric](15, 0) NULL,\n",
    "\t[REG_MASTER_ORIGEM_RELACIONADO] [numeric](15, 0) NULL,\n",
    "\t[REGISTRO_CONTROLE_RELACIONADO] [numeric](15, 0) NULL,\n",
    "\t[REGISTRO_CONTROLE_II_RELACIONADO] [numeric](15, 0) NULL,\n",
    "\t[TIPO_COMISSAO] [varchar](1) NULL,\n",
    "\t[COMISSAO] [numeric](9, 2) NULL,\n",
    "\t[VALOR_BONIFICACAO]  AS (case [TIPO_BONIFICACAO] when 'V' then isnull([BONIFICACAO],(0))*[QUANTIDADE] when 'P' then ([VENDA_BRUTA]-[DESCONTO])*(isnull([BONIFICACAO],(0))/(100)) else (0.00) end) PERSISTED,\n",
    "\t[VALOR_COMISSAO]  AS (case [TIPO_COMISSAO] when 'V' then isnull([COMISSAO],(0))*[QUANTIDADE] when 'P' then ([VENDA_BRUTA]-[DESCONTO])*(isnull([COMISSAO],(0))/(100)) else (0.00) end) PERSISTED,\n",
    "\t[DESCONTO_AUTOMATICO] [numeric](15, 2) NULL,\n",
    "\t[DESCONTO_CONCEDIDO] [numeric](15, 2) NOT NULL,\n",
    "\t[GERA_DEMANDA]  AS ([DBO].[UDF_GERA_DEMANDA]([VENDA_ANALITICA])),\n",
    "\t[CODIGO_CR_PRESCRITOR] [numeric](9, 0) NULL,\n",
    "\t[CR_PRESCRITOR] [varchar](20) NULL,\n",
    "\t[UF_PRESCRITOR] [varchar](2) NULL,\n",
    "\t[PEDIDO_VENDA] [numeric](15, 0) NULL,\n",
    " CONSTRAINT [PK__VENDAS_A__C123DE351D44F117] PRIMARY KEY CLUSTERED \n",
    "(\n",
    "\t[FORMULARIO_ORIGEM] ASC,\n",
    "\t[TAB_MASTER_ORIGEM] ASC,\n",
    "\t[REG_MASTER_ORIGEM] ASC,\n",
    "\t[REGISTRO_CONTROLE] ASC,\n",
    "\t[REGISTRO_CONTROLE_II] ASC\n",
    ")WITH (PAD_INDEX = OFF, STATISTICS_NORECOMPUTE = OFF, IGNORE_DUP_KEY = OFF, ALLOW_ROW_LOCKS = ON, ALLOW_PAGE_LOCKS = ON, OPTIMIZE_FOR_SEQUENTIAL_KEY = OFF) ON [PRIMARY],\n",
    " CONSTRAINT [UQ__VENDAS_A__3C42778B214CEE2A] UNIQUE NONCLUSTERED \n",
    "(\n",
    "\t[VENDA_ANALITICA] ASC\n",
    ")WITH (PAD_INDEX = OFF, STATISTICS_NORECOMPUTE = OFF, IGNORE_DUP_KEY = OFF, ALLOW_ROW_LOCKS = ON, ALLOW_PAGE_LOCKS = ON, OPTIMIZE_FOR_SEQUENTIAL_KEY = OFF) ON [PRIMARY]\n",
    ") ON [PRIMARY]\n",
    "GO\n",
    "\"\"\"\n",
    "question = f'Translate the following SQL script into English,using column names with words separated by underscores (_). Preserve the original table structure and data types. Remove constraints and on Primary  :{e1}'\n",
    "response = model.generate_content(question)\n",
    "translated_statements.append(response.text)\n",
    "print(response.text)\n"
   ]
  },
  {
   "cell_type": "code",
   "execution_count": 290,
   "metadata": {},
   "outputs": [],
   "source": [
    "# Including output file\n",
    "with open('script.sql', 'w') as f2:\n",
    "    for k in translated_statements:\n",
    "        f2.write(k + '\\n')"
   ]
  },
  {
   "cell_type": "code",
   "execution_count": 246,
   "metadata": {},
   "outputs": [],
   "source": [
    "f.close()"
   ]
  },
  {
   "cell_type": "code",
   "execution_count": null,
   "metadata": {},
   "outputs": [],
   "source": []
  },
  {
   "cell_type": "markdown",
   "metadata": {},
   "source": [
    "## One script as origin"
   ]
  },
  {
   "cell_type": "code",
   "execution_count": 422,
   "metadata": {},
   "outputs": [
    {
     "name": "stdout",
     "output_type": "stream",
     "text": [
      "dbo.CLASSIFICACOES_CLIENTES.txt\n",
      "dbo.ENDERECOS.txt\n",
      "dbo.ENTIDADES.txt\n",
      "dbo.ESTADOS.txt\n",
      "dbo.FAMILIAS_PRODUTOS.txt\n",
      "dbo.GRUPOS_PRODUTOS.txt\n",
      "dbo.MARCAS.txt\n",
      "dbo.PRODUTOS.txt\n",
      "dbo.SUBGRUPOS_PRODUTOS.txt\n",
      "dbo.VENDAS_ANALITICAS.txt\n",
      "dbo.VENDEDORES.txt\n"
     ]
    }
   ],
   "source": [
    "\n",
    "import os\n",
    "import warnings\n",
    "\n",
    "\n",
    "warnings.filterwarnings(action='ignore')\n",
    "translated_statements =[]\n",
    "folder = os.listdir( 'script_tables')\n",
    "with open('table_translated.sql', 'w') as f2:\n",
    "    for file in folder:\n",
    "        print(file)\n",
    "        with open(f\"script_tables\\{file}\", mode= \"r\") as f:\n",
    "            myfile = f.readlines()\n",
    "        data_translate = \"\".join(myfile)\n",
    "        translated_statements = [] \n",
    "        question = f'Generate other SQL script  but in English,using column names with words separated by underscores (_). Preserve the original table structure and data types. :{data_translate}'\n",
    "        response = model.generate_content(question)\n",
    "        ## WRITE final file\n",
    "        f2.write(response.text + '\\n')"
   ]
  },
  {
   "cell_type": "code",
   "execution_count": 423,
   "metadata": {},
   "outputs": [],
   "source": [
    "f.close()\n",
    "f2.close()"
   ]
  },
  {
   "cell_type": "code",
   "execution_count": null,
   "metadata": {},
   "outputs": [],
   "source": []
  }
 ],
 "metadata": {
  "kernelspec": {
   "display_name": ".venv",
   "language": "python",
   "name": "python3"
  },
  "language_info": {
   "codemirror_mode": {
    "name": "ipython",
    "version": 3
   },
   "file_extension": ".py",
   "mimetype": "text/x-python",
   "name": "python",
   "nbconvert_exporter": "python",
   "pygments_lexer": "ipython3",
   "version": "3.12.5"
  }
 },
 "nbformat": 4,
 "nbformat_minor": 2
}
