{
 "cells": [
  {
   "cell_type": "markdown",
   "metadata": {},
   "source": [
    "## 1.Install library"
   ]
  },
  {
   "cell_type": "code",
   "execution_count": 1,
   "metadata": {},
   "outputs": [],
   "source": [
    "#!pip install -q -U google-generativeai"
   ]
  },
  {
   "cell_type": "markdown",
   "metadata": {},
   "source": [
    "## 2.Config "
   ]
  },
  {
   "cell_type": "code",
   "execution_count": 3,
   "metadata": {},
   "outputs": [
    {
     "name": "stderr",
     "output_type": "stream",
     "text": [
      "c:\\ItaFiles_PowerBI\\Xperium\\02. SQL Server Avançado\\12 Implementando Data Mart\\MY_PROJECT\\.venv\\Lib\\site-packages\\tqdm\\auto.py:21: TqdmWarning: IProgress not found. Please update jupyter and ipywidgets. See https://ipywidgets.readthedocs.io/en/stable/user_install.html\n",
      "  from .autonotebook import tqdm as notebook_tqdm\n"
     ]
    }
   ],
   "source": [
    "import google.generativeai as genai\n",
    "from  config import config "
   ]
  },
  {
   "cell_type": "code",
   "execution_count": 4,
   "metadata": {},
   "outputs": [],
   "source": [
    "# Reading API Key\n",
    "API_KEY = config['api_key']"
   ]
  },
  {
   "cell_type": "code",
   "execution_count": 5,
   "metadata": {},
   "outputs": [],
   "source": [
    "# get in genai\n",
    "genai.configure(api_key=API_KEY)"
   ]
  },
  {
   "cell_type": "markdown",
   "metadata": {},
   "source": [
    "## 3.Using"
   ]
  },
  {
   "cell_type": "code",
   "execution_count": 6,
   "metadata": {},
   "outputs": [],
   "source": [
    "# Picking model\n",
    "model = genai.GenerativeModel('gemini-pro')"
   ]
  },
  {
   "cell_type": "markdown",
   "metadata": {},
   "source": [
    "### 3.1.Get table statemet"
   ]
  },
  {
   "cell_type": "code",
   "execution_count": 147,
   "metadata": {},
   "outputs": [],
   "source": [
    "# Reading notebook with tables script \n",
    "import json \n",
    "\n",
    "with open(\"nb_tablesScripstSource.ipynb\", mode= \"r\", encoding= \"utf-8\") as f:\n",
    "    myfile = json.load(f)"
   ]
  },
  {
   "cell_type": "code",
   "execution_count": 148,
   "metadata": {},
   "outputs": [],
   "source": [
    "\n",
    "statements_to_translate = []\n",
    "for x in myfile[\"cells\"]:\n",
    "    if (x['cell_type'] == \"code\") & \\\n",
    "             (x[\"metadata\"]['object_type'] == 'Table'):\n",
    "                statements_to_translate.append( x[\"source\"])\n",
    "\n",
    "\n"
   ]
  },
  {
   "cell_type": "code",
   "execution_count": 164,
   "metadata": {},
   "outputs": [],
   "source": [
    "# t = 0\n",
    "translated_statements = []\n",
    "for e in statements_to_translate:\n",
    "    # t = t+1\n",
    "    question = f'Translate the following table names and column names in this SQL script into English,using column names with words separated by underscores (_). Preserve the original table structure and data types.Remove comments and Primary key definitions. Translate only table name and columns names.You can adapt the names, but use the same logic for all tables:{e} '\n",
    "    response = model.generate_content(question)\n",
    "    translated_statements.append(response.text)\n",
    "    # if t== 2: break"
   ]
  },
  {
   "cell_type": "code",
   "execution_count": 162,
   "metadata": {},
   "outputs": [
    {
     "name": "stdout",
     "output_type": "stream",
     "text": [
      "12\n"
     ]
    }
   ],
   "source": [
    "print(len(translated_statements))\n"
   ]
  },
  {
   "cell_type": "code",
   "execution_count": 163,
   "metadata": {},
   "outputs": [
    {
     "data": {
      "text/plain": [
       "['CUSTOMER_CLASSIFICATIONS\\nCUSTOMER_CLASSIFICATION\\nORIGIN_FORM\\nORIGIN_MASTER_TABLE\\nORIGIN_MASTER_RECORD\\nCREATION_LOG_RECORD\\nDESCRIPTION\\nADDITIONAL_MARKUP\\nGUID\\nOLD_CODE\\nDOCUMENT_REQUIRED\\nBILLING_EMAIL_REQUIRED\\nDISREGARD_MATURITY\\nCONVENTION_87',\n",
       " '/****** Object:  Table [dbo].[ADDRESSES]    Script Date: 16/09/2024 11:43:10 ******/\\n\\nSET ANSI_NULLS ON\\nGO\\n\\nSET QUOTED_IDENTIFIER ON\\nGO\\n\\nCREATE TABLE [dbo].[ADDRESSES](\\n\\t[ADDRESS_ID] [numeric](15, 0) IDENTITY(1,1) NOT NULL,\\n\\t[FORM_ORIGIN] [numeric](6, 0) NULL,\\n\\t[MASTER_TABLE_ORIGIN] [numeric](6, 0) NULL,\\n\\t[MASTER_REG_ORIGIN] [numeric](15, 0) NULL,\\n\\t[INCLUSION_LOG_REG] [numeric](15, 0) NULL,\\n\\t[ENTITY] [numeric](15, 0) NOT NULL,\\n\\t[COUNTRY] [varchar](40) NOT NULL,\\n\\t[ZIP_CODE] [varchar](9) NOT NULL,\\n\\t[ADDRESS_TYPE] [varchar](15) NOT NULL,\\n\\t[ADDRESS] [varchar](60) NOT NULL,\\n\\t[NUMBER] [numeric](10, 0) NOT NULL,\\n\\t[COMPLEMENT] [varchar](60) NULL,\\n\\t[NEIGHBORHOOD] [varchar](40) NOT NULL,\\n\\t[CITY] [varchar](40) NOT NULL,\\n\\t[STATE] [varchar](2) NOT NULL,\\n\\t[REFERENCE] [varchar](255) NULL,\\n\\t[COUNTY] [numeric](15, 0) NULL,\\n\\t[GUID] [uniqueidentifier] NOT NULL,\\n\\t[IBGE_CODE] [numeric](7, 0) NULL,\\n\\t[POSTAL_CODE] [varchar](25) NULL,\\n\\t[POSTAL_CODE_CEP] [varchar](25) NULL,\\nPRIMARY KEY CLUSTERED \\n(\\n\\t[ADDRESS_ID] ASC\\n)WITH (PAD_INDEX = OFF, STATISTICS_NORECOMPUTE = OFF, IGNORE_DUP_KEY = OFF, ALLOW_ROW_LOCKS = ON, ALLOW_PAGE_LOCKS = ON, OPTIMIZE_FOR_SEQUENTIAL_KEY = OFF) ON [PRIMARY]\\n) ON [PRIMARY]\\nGO',\n",
       " '| Table Name | Column Name |\\n| ----------- | ----------- |\\n| ENTITIES | ENTITY_ID |\\n| ENTITIES | FORM_ORIGIN |\\n| ENTITIES | MASTER_TABLE_ORIGIN |\\n| ENTITIES | MASTER_RECORD_ORIGIN |\\n| ENTITIES | LOG_INCLUDE_RECORD |\\n| ENTITIES | NAME |\\n| ENTITIES | BUSINESS_NAME |\\n| ENTITIES | FEDERAL_REGISTER |\\n| ENTITIES | STATE_REGISTER |\\n| ENTITIES | MUNICIPAL_REGISTER |\\n| ENTITIES | NATIONAL_COMPANY |\\n| ENTITIES | ICMS_TAXPAYER |\\n| ENTITIES | CONCENTRATOR |\\n| ENTITIES | REGION |\\n| ENTITIES | TYPE |\\n| ENTITIES | OLD_CODE |\\n| ENTITIES | ACCOUNTING_GROUP |\\n| ENTITIES | IMPORTED |\\n| ENTITIES | ACTIVE |\\n| ENTITIES | SIMPLES_NACIONAL |\\n| ENTITIES | COLOR |\\n| ENTITIES | FOREIGN_REGISTER |\\n| ENTITIES | FINANCIAL_CLASSIFICATION |\\n| ENTITIES | NFE_TYPE_IE_INDICATOR |\\n| ENTITIES | NFE_CONSUMER_FINAL |\\n| ENTITIES | CLIENT_CLASSIFICATION |\\n| ENTITIES | REGISTRATION_DATE |\\n| ENTITIES | OLD_SUPPLIER_CODE |',\n",
       " '| States |\\n|--------|\\n| State | State_Origin_Form | State_Origin_Master_Table | State_Origin_Master_Record | State_Inclusion_Log_Record | State_Name | State_ICMS_Rate | State_Internal_Rate | State_IBGE_Code | State_Interstate_Rate | State_GIA_Code | State_GUID | State_ICMS_Poor_Rate | State_GIAM_Code | State_GNRE_Revenue_Code | State_GNRE_Revenue_Detail_Code | State_GNRE_Revenue_FP_Code | State_GNRE_Revenue_Detail_FP_Code | State_Due_Date | State_Due_Date_FCP | State_Requires_Technical_Responsibility_NFE |',\n",
       " 'CREATE TABLE [dbo].[PRODUCT_FAMILIES](\\\\n\\n\\\\t[PRODUCT_FAMILY] [numeric](15, 0) IDENTITY(1,1) NOT NULL,\\\\n\\n\\\\t[SOURCE_FORM] [numeric](6, 0) NULL,\\\\n\\n\\\\t[SOURCE_MASTER_TABLE] [numeric](6, 0) NULL,\\\\n\\n\\\\t[SOURCE_MASTER_RECORD] [numeric](15, 0) NULL,\\\\n\\n\\\\t[INSERTION_LOG_RECORD] [numeric](15, 0) NULL,\\\\n\\n\\\\t[DESCRIPTION] [varchar](60) NOT NULL,\\\\n\\n\\\\t[GUID] [uniqueidentifier] NOT NULL,',\n",
       " '| Table Name | Column Name |\\n|---|---|\\n| PRODUCT_GROUPS | PRODUCT_GROUP |\\n| PRODUCT_GROUPS | FORM_SOURCE |\\n| PRODUCT_GROUPS | MASTER_TABLE_SOURCE |\\n| PRODUCT_GROUPS | MASTER_RECORD_SOURCE |\\n| PRODUCT_GROUPS | INCLUSION_LOG_RECORD |\\n| PRODUCT_GROUPS | DESCRIPTION |\\n| PRODUCT_GROUPS | MARKUP |\\n| PRODUCT_GROUPS | OLD_CODE |\\n| PRODUCT_GROUPS | GUID |',\n",
       " '/****** Object:  Table [dbo].[BRANDS]    Script Date: 16/09/2024 11:43:10 ******/\\n\\nCREATE TABLE [dbo].[BRANDS]\\n(\\n\\t[BRAND_ID] [numeric](15, 0) IDENTITY(1,1) NOT NULL,\\n\\t[ORIGIN_FORM] [numeric](6, 0) NULL,\\n\\t[ORIGIN_MASTER_TABLE] [numeric](6, 0) NULL,\\n\\t[ORIGIN_MASTER_RECORD] [numeric](15, 0) NULL,\\n\\t[CREATED_BY] [numeric](15, 0) NULL,\\n\\t[DESCRIPTION] [varchar](60) NOT NULL,\\n\\t[MARGIN] [numeric](15, 2) NOT NULL,\\n\\t[STATUS] [varchar](2) NOT NULL,\\n\\t[GUID] [uniqueidentifier] NOT NULL,\\n\\t[IMS] [varchar](1) NOT NULL\\n)\\nGO',\n",
       " '| **Portuguese Table/Column Name** | **English Table/Column Name** |\\n|---|---|\\n| **PRODUTOS** | **PRODUCTS** |\\n| **PRODUTO** | **PRODUCT_ID** |\\n| **FORMULARIO_ORIGEM** | **SOURCE_FORM** |\\n| **TAB_MASTER_ORIGEM** | **SOURCE_MASTER_TABLE** |\\n| **REG_MASTER_ORIGEM** | **SOURCE_MASTER_RECORD** |\\n| **REG_LOG_INCLUSAO** | **INCLUSION_LOG_RECORD** |\\n| **DESCRICAO** | **DESCRIPTION** |\\n| **DESCRICAO_REDUZIDA** | **SHORTENED_DESCRIPTION** |\\n| **UNIDADE_MEDIDA** | **MEASURE_UNIT** |\\n| **FAMILIA_PRODUTO** | **PRODUCT_FAMILY** |\\n| **SECAO_PRODUTO** | **PRODUCT_SECTION** |\\n| **GRUPO_PRODUTO** | **PRODUCT_GROUP** |\\n| **SUBGRUPO_PRODUTO** | **PRODUCT_SUBGROUP** |\\n| **SAZONALIDADE** | **SEASONALITY** |\\n| **MARCA** | **BRAND** |\\n| **DATA_INCLUSAO** | **INCLUSION_DATE** |\\n| **DATA_FORA_LINHA** | **DISCONTINUATION_DATE** |\\n| **SITUACAO_PRODUTO** | **PRODUCT_STATUS** |\\n| **CODIGO_ANTIGO** | **OLD_CODE** |\\n| **FATOR_EMBALAGEM** | **PACKAGING_FACTOR** |\\n| **UNIDADE_MEDIDA_FATOR** | **FACTOR_MEASURE_UNIT** |\\n| **EMBALAGEM_INDUSTRIA** | **INDUSTRY_PACKAGING** |\\n| **GRUPO_CONTABIL** | **ACCOUNTING_GROUP** |\\n| **FABRICANTE** | **MANUFACTURER** |\\n| **GRUPO_TRIBUTARIO** | **TAX_GROUP** |\\n| **DESCRICAO_ECOMMERCE** | **ECOMMERCE_DESCRIPTION** |\\n| **ENVIAR_ECOMMERCE** | **SEND_TO_ECOMMERCE** |\\n| **SITUACAO_PRODUTO_COMPRA** | **PURCHASE_PRODUCT_STATUS** |\\n| **ENVIAR_LOJAS** | **SEND_TO_STORES** |\\n| **TIPO_PRECO** | **PRICE_TYPE** |\\n| **TIPO_ETIQUETA** | **LABEL_TYPE** |\\n| **LUCRO_BRUTO** | **GROSS_PROFIT** |\\n| **PROC_GUID** | **PROC_GUID** |\\n| **CADASTRO_ATIVO** | **ACTIVE_REGISTRATION** |\\n| **CLASSE_PRODUTO** | **PRODUCT_CLASS** |\\n| **PAIS** | **COUNTRY** |\\n| **NCM** | **NCM** |\\n| **LUCRO_BRUTO_PERCENTUAL** | **GROSS_PROFIT_PERCENTAGE** |\\n| **PRODUTO_OBSERVACAO_VENDA** | **PRODUCT_SALE_OBSERVATION** |\\n| **FATOR_PRECO** | **PRICE_FACTOR** |\\n| **GUID** | **GUID** |\\n| **GRUPO_TRIBUTARIO_ENTRADA** | **INPUT_TAX_GROUP** |\\n| **GRUPO_FISCAL** | **TAX_GROUP** |\\n| **LISTA_PNU** | **PNU_LIST** |\\n| **CLASSIFICACAO_PRODUTO_ESTOQUE** | **STOCK_PRODUCT_CLASSIFICATION** |\\n| **CODIGO_REFERENCIA** | **REFERENCE_CODE** |\\n| **CODIGO_ANTIGO_REGMS** | **REGMS_OLD_CODE** |\\n| **CODIGO_ANTIGO_COMPLE** | **FULL_OLD_CODE** |\\n| **PRODUTO_CONCENTRADOR** | **CONCENTRATED_PRODUCT** |\\n| **CODIGO_CEST** | **CEST_CODE** |\\n| **MENOR_UNIDADE_VENDA** | **SMALLEST_SALES_UNIT** |\\n| **PRODUTO_ORIGEM** | **ORIGIN_PRODUCT** |\\n| **FATOR** | **FACTOR** |\\n| **DESCRICAO_FATOR_APRESENTACAO** | **PRESENTATION_FACTOR_DESCRIPTION** |\\n| **COMISSAO** | **COMMISSION** |\\n| **DESCRICAO_COMPLETA** | **FULL_DESCRIPTION** |\\n| **ORIGEM** | **ORIGIN** |\\n| **GRUPO_TERMO_ACORDO_CE** | **EC_AGREEMENT_TERM_GROUP** |\\n| **CUSTO_BASE** | **BASE_COST** |\\n| **REFERENCIA** | **REFERENCE** |\\n| **COD_SYSPDV** | **SYSPDV_CODE** |\\n| **STATUS_ATIVO_TRANSFERENCIA** | **TRANSFER_ACTIVE_STATUS** |\\n| **CONFERIDO_COM_MOVIMENTACAO** | **CHECKED_WITH_MOVEMENT** |\\n| **MARKUP** | **MARKUP** |',\n",
       " '| SQL | English |\\n|---|---|\\n| SECOES_PRODUTOS | PRODUCT_SECTIONS |\\n| SECAO_PRODUTO | PRODUCT_SECTION |\\n| FORMULARIO_ORIGEM | ORIGIN_FORM |\\n| TAB_MASTER_ORIGEM | ORIGIN_MASTER_TAB |\\n| REG_MASTER_ORIGEM | ORIGIN_MASTER_REG |\\n| REG_LOG_INCLUSAO | INCLUSION_LOG_REG |\\n| DESCRICAO | DESCRIPTION |\\n| COMERCIALIZAVEL | MARKETABLE |\\n| FATOR_REDUCAO_ST | ST_REDUCTION_FACTOR |\\n| CODIGO_ESTACAO | SEASON_CODE |\\n| PERCENTUAL_CURVA_A | CURVE_A_PERCENTAGE |\\n| PERCENTUAL_CURVA_B | CURVE_B_PERCENTAGE |\\n| PERCENTUAL_CURVA_C | CURVE_C_PERCENTAGE |\\n| DIAS_VENDAS_CURVA | CURVE_SALES_DAYS |\\n| DIAS_RECALCULO | RECALCULATION_DAYS |\\n| ULTIMA_ATUALIZACAO | LAST_UPDATE |\\n| GUID | GUID |\\n| SOLICITA_RECEITA | REQUEST_PRESCRIPTION |',\n",
       " '**Table Name**: PRODUCT SUBGROUPS\\n\\n**Column Names**:\\n* PRODUCT_SUBGROUP\\n* FORM_OF_ORIGIN\\n* MASTER_TABLE_OF_ORIGIN\\n* MASTER_RECORD_OF_ORIGIN\\n* INCLUSION_LOG_RECORD\\n* DESCRIPTION\\n* GUID\\n* CUBAGEM_MEDIA',\n",
       " '| Table | Column | Data type | Description |\\n|---|---|---|---|\\n| SALES_ANALYTICS | FORM_SOURCE | numeric | Form source |\\n| SALES_ANALYTICS | MASTER_TAB_SOURCE | numeric | Master tab source |\\n| SALES_ANALYTICS | MASTER_REC_SOURCE | numeric | Master rec source |\\n| SALES_ANALYTICS | CONTROL_RECORD | numeric | Control record |\\n| SALES_ANALYTICS | CONTROL_RECORD_II | numeric | Control record II |\\n| SALES_ANALYTICS | COMPANY | numeric | Company |\\n| SALES_ANALYTICS | MOVEMENT | date | Movement |\\n| SALES_ANALYTICS | CASHIER | numeric | Cashier |\\n| SALES_ANALYTICS | SALE | numeric | Sale |\\n| SALES_ANALYTICS | PRODUCT | numeric | Product |\\n| SALES_ANALYTICS | SALESMAN | numeric | Salesman |\\n| SALES_ANALYTICS | OPERATOR | numeric | Operator |\\n| SALES_ANALYTICS | CLIENT | numeric | Client |\\n| SALES_ANALYTICS | QUANTITY | numeric | Quantity |\\n| SALES_ANALYTICS | GROSS_SALE | numeric | Gross sale |\\n| SALES_ANALYTICS | DISCOUNT | numeric | Discount |\\n| SALES_ANALYTICS | NEGOTIATED_DISCOUNT | numeric | Negotiated discount |\\n| SALES_ANALYTICS | NET_SALE | numeric | Net sale |\\n| SALES_ANALYTICS | FISCAL_OPERATION | numeric | Fiscal operation |\\n| SALES_ANALYTICS | PIS_TAX_RATE | numeric | PIS tax rate |\\n| SALES_ANALYTICS | PIS_CALCULATION_BASE | numeric | PIS calculation base |\\n| SALES_ANALYTICS | PIS_VALUE | numeric | PIS value |\\n| SALES_ANALYTICS | PIS_TAX_STATUS | varchar | PIS tax status |\\n| SALES_ANALYTICS | COFINS_TAX_RATE | numeric | COFINS tax rate |\\n| SALES_ANALYTICS | COFINS_CALCULATION_BASE | numeric | COFINS calculation base |\\n| SALES_ANALYTICS | COFINS_VALUE | numeric | COFINS value |\\n| SALES_ANALYTICS | COFINS_TAX_STATUS | varchar | COFINS tax status |\\n| SALES_ANALYTICS | ICMS_TAX_RATE | numeric | ICMS tax rate |\\n| SALES_ANALYTICS | ICMS_CALCULATION_BASE | numeric | ICMS calculation base |\\n| SALES_ANALYTICS | ICMS_VALUE | numeric | ICMS value |\\n| SALES_ANALYTICS | ICMS_TAX_STATUS | varchar | ICMS tax status |\\n| SALES_ANALYTICS | ICMS_ECF_CODE | varchar | ICMS ECF code |\\n| SALES_ANALYTICS | FISCAL_TYPE | varchar | Fiscal type |\\n| SALES_ANALYTICS | DOCUMENT_TYPE | numeric | Document type |\\n| SALES_ANALYTICS | DOCUMENT_NUMBER | numeric | Document number |\\n| SALES_ANALYTICS | ECF_CASHIER | varchar | ECF cashier |\\n| SALES_ANALYTICS | BONUS_TYPE | varchar | Bonus type |\\n| SALES_ANALYTICS | BONUS | numeric | Bonus |\\n| SALES_ANALYTICS | CONTROL_OBJECT | numeric | Control object |\\n| SALES_ANALYTICS | GUID | uniqueidentifier | GUID |\\n| SALES_ANALYTICS | SALE_ANALYTICS | numeric | Sale analytics |\\n| SALES_ANALYTICS | TAXES | numeric | Taxes |\\n| SALES_ANALYTICS | RELATED_FORM_SOURCE | numeric | Related form source |\\n| SALES_ANALYTICS | RELATED_MASTER_TAB_SOURCE | numeric | Related master tab source |\\n| SALES_ANALYTICS | RELATED_MASTER_REC_SOURCE | numeric | Related master rec source |\\n| SALES_ANALYTICS | RELATED_CONTROL_RECORD | numeric | Related control record |\\n| SALES_ANALYTICS | RELATED_CONTROL_RECORD_II | numeric | Related control record II |\\n| SALES_ANALYTICS | COMMISSION_TYPE | varchar | Commission type |\\n| SALES_ANALYTICS | COMMISSION | numeric | Commission |\\n| SALES_ANALYTICS | BONUS_VALUE | numeric | Bonus value |\\n| SALES_ANALYTICS | COMMISSION_VALUE | numeric | Commission value |\\n| SALES_ANALYTICS | AUTOMATIC_DISCOUNT | numeric | Automatic discount |\\n| SALES_ANALYTICS | GIVEN_DISCOUNT | numeric | Given discount |\\n| SALES_ANALYTICS | GENERATE_DEMAND | function | Generate demand |\\n| SALES_ANALYTICS | DOCTOR_CR_CODE | numeric | Doctor CR code |\\n| SALES_ANALYTICS | DOCTOR_CR | varchar | Doctor CR |\\n| SALES_ANALYTICS | DOCTOR_CR_STATE | varchar | Doctor CR state |\\n| SALES_ANALYTICS | SALES_ORDER | numeric | Sales order |',\n",
       " '/****** Object:  Table [dbo].[VENDORS]    Script Date: 09/16/2024 11:43:10 ******/\\n\\nCREATE TABLE [dbo].[VENDORS](\\n\\t[VENDOR_ID] [numeric](15, 0) IDENTITY(1,1) NOT NULL,\\n\\t[ORIGIN_FORM] [numeric](6, 0) NULL,\\n\\t[ORIGIN_MASTER_TAB] [numeric](6, 0) NULL,\\n\\t[ORIGIN_MASTER_REC] [numeric](15, 0) NULL,\\n\\t[CREATION_LOG_REC] [numeric](15, 0) NULL,\\n\\t[NAME] [varchar](60) NOT NULL,\\n\\t[DP_CODE] [numeric](5, 0) NULL,\\n\\t[COMMISSION] [numeric](6, 2) NULL,\\n\\t[ENTITY] [numeric](15, 0) NOT NULL,\\n\\t[POS_OPERATOR_ID] [numeric](15, 0) NULL,\\n\\t[USER_COMPANY] [numeric](15, 0) NULL,\\n\\t[MAX_PMC_DISCOUNT] [numeric](15, 2) NULL,\\n\\t[COUNTER_TOTAL_DISCOUNT] [varchar](1) NULL,\\n\\t[SUPERVISOR] [varchar](1) NULL,\\n\\t[FP_USER] [varchar](15) NULL,\\n\\t[FP_PASSWORD] [varchar](15) NULL,\\n\\t[ACTIVE_REGISTRATION] [varchar](1) NULL,\\n\\t[GUID] [uniqueidentifier] NOT NULL,\\n\\t[DISCOUNT_POSITION] [numeric](15, 0) NULL,\\n\\t[COMMISSION_POSITION] [numeric](15, 0) NULL,\\n\\t[DELIVERY_FEE] [numeric](15, 2) NULL,\\n\\t[DELIVERY_MAN] [varchar](1) NULL,\\n\\t[EMAIL] [varchar](120) NULL,\\n\\t[BID] [varchar](1) NULL,\\n\\t[USER] [numeric](15, 0) NULL,\\n\\t[VENDOR_EMAIL] [varchar](120) NULL,\\n\\t[COMMISSION_POSITION] [numeric](15, 0) NULL,\\n\\t[PHYSICAL_THERAPIST] [varchar](1) NULL,\\n\\t[COMMISSION_GROUP] [numeric](15, 0) NULL\\n)']"
      ]
     },
     "execution_count": 163,
     "metadata": {},
     "output_type": "execute_result"
    }
   ],
   "source": [
    "translated_statements"
   ]
  },
  {
   "cell_type": "code",
   "execution_count": 165,
   "metadata": {},
   "outputs": [
    {
     "data": {
      "text/plain": [
       "'CREATE TABLE [dbo].[CUSTOMER_CLASSIFICATIONS] (\\n    [CUSTOMER_CLASSIFICATION] [numeric](15, 0) IDENTITY(1,1) NOT NULL,\\n    [SOURCE_FORM] [numeric](6, 0) NULL,\\n    [SOURCE_MASTER_TABLE] [numeric](6, 0) NULL,\\n    [SOURCE_MASTER_RECORD] [numeric](15, 0) NULL,\\n    [INSERTION_LOG_RECORD] [numeric](15, 0) NULL,\\n    [DESCRIPTION] [varchar](60) NOT NULL,\\n    [ADDITIONAL_MARKUP] [numeric](6, 2) NOT NULL,\\n    [GUID] [uniqueidentifier] NOT NULL,\\n    [OLD_CODE] [varchar](20) NULL,\\n    [REQUIRES_COMMITMENT] [varchar](1) NOT NULL,\\n    [REQUIRES_COLLECTION_EMAIL] [varchar](1) NOT NULL,\\n    [IGNORE_DUE_DATE] [varchar](1) NULL,\\n    [CONVENTION_87] [varchar](7) NOT NULL\\n)'"
      ]
     },
     "execution_count": 165,
     "metadata": {},
     "output_type": "execute_result"
    }
   ],
   "source": [
    "translated_statements[0]"
   ]
  },
  {
   "cell_type": "code",
   "execution_count": null,
   "metadata": {},
   "outputs": [],
   "source": [
    "f.close()"
   ]
  }
 ],
 "metadata": {
  "kernelspec": {
   "display_name": ".venv",
   "language": "python",
   "name": "python3"
  },
  "language_info": {
   "codemirror_mode": {
    "name": "ipython",
    "version": 3
   },
   "file_extension": ".py",
   "mimetype": "text/x-python",
   "name": "python",
   "nbconvert_exporter": "python",
   "pygments_lexer": "ipython3",
   "version": "3.12.5"
  }
 },
 "nbformat": 4,
 "nbformat_minor": 2
}
