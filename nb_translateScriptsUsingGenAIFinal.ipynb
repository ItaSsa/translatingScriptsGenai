{
 "cells": [
  {
   "cell_type": "markdown",
   "metadata": {},
   "source": [
    "## 1.Install library"
   ]
  },
  {
   "cell_type": "code",
   "execution_count": 234,
   "metadata": {},
   "outputs": [],
   "source": [
    "!pip install -q -U google-generativeai"
   ]
  },
  {
   "cell_type": "markdown",
   "metadata": {},
   "source": [
    "## 2.Config "
   ]
  },
  {
   "cell_type": "code",
   "execution_count": 235,
   "metadata": {},
   "outputs": [],
   "source": [
    "import google.generativeai as genai\n",
    "from  config import config "
   ]
  },
  {
   "cell_type": "code",
   "execution_count": 236,
   "metadata": {},
   "outputs": [],
   "source": [
    "# Reading API Key\n",
    "API_KEY = config['api_key']"
   ]
  },
  {
   "cell_type": "code",
   "execution_count": 237,
   "metadata": {},
   "outputs": [],
   "source": [
    "# get in genai\n",
    "genai.configure(api_key=API_KEY)"
   ]
  },
  {
   "cell_type": "markdown",
   "metadata": {},
   "source": [
    "## 3.Using"
   ]
  },
  {
   "cell_type": "code",
   "execution_count": 238,
   "metadata": {},
   "outputs": [],
   "source": [
    "# Picking model\n",
    "model = genai.GenerativeModel('gemini-pro')"
   ]
  },
  {
   "cell_type": "markdown",
   "metadata": {},
   "source": [
    "## One script as origin"
   ]
  },
  {
   "cell_type": "code",
   "execution_count": 422,
   "metadata": {},
   "outputs": [
    {
     "name": "stdout",
     "output_type": "stream",
     "text": [
      "dbo.CLASSIFICACOES_CLIENTES.txt\n",
      "dbo.ENDERECOS.txt\n",
      "dbo.ENTIDADES.txt\n",
      "dbo.ESTADOS.txt\n",
      "dbo.FAMILIAS_PRODUTOS.txt\n",
      "dbo.GRUPOS_PRODUTOS.txt\n",
      "dbo.MARCAS.txt\n",
      "dbo.PRODUTOS.txt\n",
      "dbo.SUBGRUPOS_PRODUTOS.txt\n",
      "dbo.VENDAS_ANALITICAS.txt\n",
      "dbo.VENDEDORES.txt\n"
     ]
    }
   ],
   "source": [
    "\n",
    "import os\n",
    "import warnings\n",
    "\n",
    "#Disabling warning\n",
    "warnings.filterwarnings(action='ignore')\n",
    "\n",
    "# Receiving one folder and listing all files from it\n",
    "folder = os.listdir( 'script_tables')\n",
    "\n",
    "# Opening the file to include the result \n",
    "with open('table_translated.sql', 'w') as f2:\n",
    "    for file in folder:\n",
    "        #for each file in the folder open it to read\n",
    "        with open(f\"script_tables\\{file}\", mode= \"r\") as f:\n",
    "            myfile = f.readlines()\n",
    "        # Making the file as one single string \n",
    "        data_translate = \"\".join(myfile)\n",
    "        # Generating the prompt question with te data file\n",
    "        question = f'Generate other SQL script  but in English,using column names with words separated by underscores (_).\\\n",
    "                      Preserve the original table structure and data types. :{data_translate}'\n",
    "        \n",
    "        #Quetioning and receiving the response from AI\n",
    "        response = model.generate_content(question)\n",
    "        \n",
    "        ## Including the translated script to final result file\n",
    "        f2.write(response.text + '\\n')"
   ]
  },
  {
   "cell_type": "code",
   "execution_count": 423,
   "metadata": {},
   "outputs": [],
   "source": [
    "f.close()\n",
    "f2.close()"
   ]
  },
  {
   "cell_type": "code",
   "execution_count": null,
   "metadata": {},
   "outputs": [],
   "source": []
  }
 ],
 "metadata": {
  "kernelspec": {
   "display_name": ".venv",
   "language": "python",
   "name": "python3"
  },
  "language_info": {
   "codemirror_mode": {
    "name": "ipython",
    "version": 3
   },
   "file_extension": ".py",
   "mimetype": "text/x-python",
   "name": "python",
   "nbconvert_exporter": "python",
   "pygments_lexer": "ipython3",
   "version": "3.12.5"
  }
 },
 "nbformat": 4,
 "nbformat_minor": 2
}
