{
 "cells": [
  {
   "cell_type": "code",
   "execution_count": 38,
   "metadata": {},
   "outputs": [],
   "source": [
    "# Reading notebook cells\n",
    "import json \n",
    "from deep_translator import GoogleTranslator\n",
    "\n",
    "with open(\"nb_tablesScripstSource.ipynb\", mode= \"r\", encoding= \"utf-8\") as f:\n",
    "    myfile = json.load(f)\n"
   ]
  },
  {
   "cell_type": "code",
   "execution_count": 39,
   "metadata": {},
   "outputs": [],
   "source": [
    "translator = GoogleTranslator(source=\"pt\",target='en')"
   ]
  },
  {
   "cell_type": "code",
   "execution_count": 40,
   "metadata": {},
   "outputs": [
    {
     "name": "stdout",
     "output_type": "stream",
     "text": [
      "\n",
      "/****** Object: Table [dbo].[CLASSIFICACOES_CLIENTES] Script Date: 16/09/2024 11:43:10 ******/\n",
      "SET ANSI_NULLS ON\n",
      "GO\n",
      "SET QUOTED_IDENTIFIER ON\n",
      "GO\n",
      "CREATE TABLE [dbo].[CLASSIFICACOES_CLIENTES](\n",
      "[CLASSIFICACAO_CLIENTE] [numeric](15, 0) IDENTITY(1,1) NOT NULL,\n",
      "[FORMULARIO_ORIGEM] [numeric](6, 0) NULL,\n",
      "[TAB_MASTER_ORIGEM] [numeric](6, 0) NULL,\n",
      "[REG_MASTER_ORIGIN] [numeric](15, 0) NULL,\n",
      "[REG_LOG_INCLUSION] [numeric](15, 0) NULL,\n",
      "[DESCRIPTION] [varchar](60) NOT NULL,\n",
      "[ADDITIONAL_MARKUP] [numeric](6, 2) NOT NULL,\n",
      "[GUID] [uniqueidentifier] NOT NULL,\n",
      "[OLD_CODE] [varchar](20) NULL,\n",
      "[REQUIRE_PERFORMANCE] [varchar](1) NOT NULL,\n",
      "[EXIGIR_EMAIL_COBRANCA] [varchar](1) NOT NULL,\n",
      "[DISREGARD_EXP] [varchar](1) NULL,\n",
      "[CONVENIO_87] [varchar](7) NOT NULL,\n",
      "PRIMARY KEY CLUSTERED\n",
      "None\n",
      "[CUSTOMER_CLASSIFICATION] ASC\n",
      ")WITH (PAD_INDEX = OFF, STATISTICS_NORECOMPUTE = OFF, IGNORE_DUP_KEY = OFF, ALLOW_ROW_LOCKS = ON, ALLOW_PAGE_LOCKS = ON, OPTIMIZE_FOR_SEQUENTIAL_KEY = OFF) ON [PRIMARY]\n",
      ") ON [PRIMARY]\n",
      "GO\n"
     ]
    }
   ],
   "source": [
    "for x in myfile[\"cells\"]:\n",
    "    if x['cell_type'] == \"code\":\n",
    "        for i in x[\"source\"]:\n",
    "            translated_text = translator.translate(i)\n",
    "            print(translated_text)\n",
    "        break"
   ]
  },
  {
   "cell_type": "code",
   "execution_count": null,
   "metadata": {},
   "outputs": [],
   "source": []
  }
 ],
 "metadata": {
  "kernelspec": {
   "display_name": ".venv",
   "language": "python",
   "name": "python3"
  },
  "language_info": {
   "codemirror_mode": {
    "name": "ipython",
    "version": 3
   },
   "file_extension": ".py",
   "mimetype": "text/x-python",
   "name": "python",
   "nbconvert_exporter": "python",
   "pygments_lexer": "ipython3",
   "version": "3.12.5"
  }
 },
 "nbformat": 4,
 "nbformat_minor": 2
}
